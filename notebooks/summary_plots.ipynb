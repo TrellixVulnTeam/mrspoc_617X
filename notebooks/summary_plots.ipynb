{
 "cells": [
  {
   "cell_type": "code",
   "execution_count": 1,
   "metadata": {
    "collapsed": true,
    "deletable": true,
    "editable": true
   },
   "outputs": [],
   "source": [
    "%matplotlib inline\n",
    "%config InlineBackend.figure_format = True\n",
    "import matplotlib.pyplot as plt\n",
    "import numpy as np\n",
    "from astropy.io import ascii\n",
    "from astropy.utils.console import ProgressBar\n",
    "import astropy.units as u\n",
    "\n",
    "import sys\n",
    "sys.path.insert(0, '../')\n",
    "from mrspoc import Star, Spot"
   ]
  },
  {
   "cell_type": "code",
   "execution_count": 14,
   "metadata": {
    "collapsed": false,
    "deletable": true,
    "editable": true
   },
   "outputs": [],
   "source": [
    "lines = open('candidates.tex', 'r').read().splitlines()[4:-2]\n",
    "\n",
    "snr = []\n",
    "names = []\n",
    "for line in lines:\n",
    "    snr.append(line.split('&')[-3].strip())\n",
    "    names.append(line.split('&')[0].strip())"
   ]
  },
  {
   "cell_type": "markdown",
   "metadata": {
    "collapsed": true,
    "deletable": true,
    "editable": true
   },
   "source": [
    "Combined histogram"
   ]
  },
  {
   "cell_type": "code",
   "execution_count": 36,
   "metadata": {
    "collapsed": false,
    "deletable": true,
    "editable": true
   },
   "outputs": [],
   "source": [
    "kic_sn = np.load('kic7174505_sn.npy')\n",
    "gj_sn = np.load('gj1243_sn.npy')\n",
    "sun_sn = np.load('sun_sn.npy')"
   ]
  },
  {
   "cell_type": "code",
   "execution_count": 97,
   "metadata": {
    "collapsed": false,
    "deletable": true,
    "editable": true
   },
   "outputs": [
    {
     "name": "stderr",
     "output_type": "stream",
     "text": [
      "/Users/bmmorris/anaconda/lib/python3.5/site-packages/matplotlib/text.py:2141: UserWarning: You have used the `textcoords` kwarg, but not the `xytext` kwarg.  This can lead to surprising results.\n",
      "  warnings.warn(\"You have used the `textcoords` kwarg, but not \"\n"
     ]
    },
    {
     "data": {
      "image/png": "[encoded data removed]",
      "text/plain": [
       "<matplotlib.figure.Figure at 0x1197b8208>"
      ]
     },
     "metadata": {},
     "output_type": "display_data"
    }
   ],
   "source": [
    "bins = np.logspace(-4, 1, 100)\n",
    "\n",
    "#plt.figure(figsize=(12, 5))\n",
    "alpha=0.8\n",
    "plt.hist(kic_sn, bins, histtype='stepfilled', alpha=alpha, label='KIC 7174505', \n",
    "         log=True, color=\"#CC3F13\")\n",
    "plt.hist(gj_sn, bins, lw=3, histtype='stepfilled', alpha=alpha, label='GJ 1243', \n",
    "         log=True, color=\"#31C3FF\")\n",
    "plt.hist(sun_sn, bins, histtype='stepfilled', alpha=alpha, label='Sun', \n",
    "         log=True, color=\"#1335CC\")\n",
    "\n",
    "plt.annotate(\"For a starspot\\ndistribution like:\", xy=(1.0, 1.25),\n",
    "             textcoords='axes fraction', ha='right', va='bottom')\n",
    "plt.legend(loc=(0.7, 1.01))\n",
    "#plt.legend(loc=(1.01, 0.))\n",
    "plt.gca().set_xscale(\"log\")\n",
    "plt.gca().spines['top'].set_visible(False)\n",
    "plt.gca().spines['right'].set_visible(False)\n",
    "plt.xlabel('$\\sigma_{\\mathrm{jitter}} \\; / \\; \\sigma_{\\mathrm{Gaia}}$\\n(Signal-to-noise)', \n",
    "           fontsize=15)\n",
    "plt.ylabel('Stars', fontsize=15)\n",
    "plt.ylim([0.5, 1e3])\n",
    "plt.setp(plt.gca().get_xticklabels(), fontsize=13)\n",
    "plt.setp(plt.gca().get_yticklabels(), fontsize=13)\n",
    "plt.savefig('summary.pdf', bbox_inches='tight')\n",
    "plt.show()"
   ]
  }
 ],
 "metadata": {
  "kernelspec": {
   "display_name": "Python 3",
   "language": "python",
   "name": "python3"
  },
  "language_info": {
   "codemirror_mode": {
    "name": "ipython",
    "version": 3
   },
   "file_extension": ".py",
   "mimetype": "text/x-python",
   "name": "python",
   "nbconvert_exporter": "python",
   "pygments_lexer": "ipython3",
   "version": "3.5.4"
  }
 },
 "nbformat": 4,
 "nbformat_minor": 0
}
